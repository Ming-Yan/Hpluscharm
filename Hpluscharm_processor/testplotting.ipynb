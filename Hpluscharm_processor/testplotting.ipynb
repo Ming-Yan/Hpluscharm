{
 "cells": [
  {
   "cell_type": "code",
   "execution_count": 28,
   "id": "f5449656",
   "metadata": {},
   "outputs": [],
   "source": [
    "import numpy as np\n",
    "import matplotlib.pyplot as plt\n",
    "from matplotlib.offsetbox import AnchoredText\n",
    "from coffea.util import load\n",
    "from coffea.hist import plot\n",
    "from coffea import hist\n",
    "import re\n",
    "import argparse\n",
    "\n",
    "\n",
    "data_err_opts = {\n",
    "    'linestyle': 'none',\n",
    "    'marker': '.',\n",
    "    'markersize': 10.,\n",
    "    'color': 'k',\n",
    "    'elinewidth': 1,\n",
    "}\n",
    "from cycler import cycler\n",
    "colors=[\"#F44336\",\"#E91E63\",\"#9C27B0\",\"#673AB7\",\"#3F51B5\",\"#2196F3\",\"#03A9F4\",\"#00BCD4\",\"#009688\",\"#4CAF50\",\"#8BC34A\",\"#CDDC39\",\"#FFEB3B\",\"#FFC107\",\"#FF9800\",\"#FF5722\",\"#795548\",\"#BDBDBD\",\"#9E9E9E\",\"#616161\",\"#90BED4\",\"#607D8B\",\"#455A64\"]"
   ]
  },
  {
   "cell_type": "code",
   "execution_count": 37,
   "id": "6437b377",
   "metadata": {},
   "outputs": [],
   "source": [
    "output=load('hists_None_sample_NLO.coffea')"
   ]
  },
  {
   "cell_type": "code",
   "execution_count": 38,
   "id": "9a7e365a",
   "metadata": {},
   "outputs": [
    {
     "data": {
      "image/png": "[encoded data removed]",
      "text/plain": [
       "<Figure size 576x432 with 2 Axes>"
      ]
     },
     "metadata": {
      "needs_background": "light"
     },
     "output_type": "display_data"
    }
   ],
   "source": [
    "h=output['z1_mass']\n",
    "fig, ((ax),(rax)) = plt.subplots(2, 1, figsize=(8, 6), gridspec_kw={\"height_ratios\": (3, 1)}, sharex=True)\n",
    "fig.subplots_adjust(hspace=.07)\n",
    "# ax=plot.plot1d(h['gcHc_NLO'].sum(\"dataset\"),ax=ax)\n",
    "# plot.plot1d(output['z2_mass']['gcHc_NLO'].sum(\"dataset\"),ax=ax,clear=False)\n",
    "# # print(sum(h['gcHc_NLO'].integrate(\"dataset\").values()[()]))\n",
    "ax = plot.plot1d(output['higgs_mass']['gcHc_NLO'].sum(\"dataset\"),ax=ax)\n",
    "# plot.plot1d(h['gcHc_NLO'].sum(\"dataset\"),ax=ax,clear=False)\n",
    "# plot.plot1d(hflav['gcHc_NLO'].sum(\"dataset\"), ax=ax, density=False, clear=False,error_opts={'linestyle': 'none',\n",
    "#                     'markersize':0,\n",
    "#                     'elinewidth': 10,\n",
    "#                     'color':'tab:brown',\n",
    "#                     'alpha':.3,\n",
    "#                     'yerr':[err_up,err_dn]})"
   ]
  },
  {
   "cell_type": "code",
   "execution_count": null,
   "id": "9b4c9ef1",
   "metadata": {},
   "outputs": [],
   "source": []
  },
  {
   "cell_type": "code",
   "execution_count": null,
   "id": "70dfc5a1",
   "metadata": {},
   "outputs": [],
   "source": []
  }
 ],
 "metadata": {
  "kernelspec": {
   "display_name": "Python 3",
   "language": "python",
   "name": "python3"
  },
  "language_info": {
   "codemirror_mode": {
    "name": "ipython",
    "version": 3
   },
   "file_extension": ".py",
   "mimetype": "text/x-python",
   "name": "python",
   "nbconvert_exporter": "python",
   "pygments_lexer": "ipython3",
   "version": "3.7.10"
  }
 },
 "nbformat": 4,
 "nbformat_minor": 5
}
